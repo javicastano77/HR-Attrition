{
 "cells": [
  {
   "cell_type": "code",
   "execution_count": 1,
   "id": "72089e1a",
   "metadata": {},
   "outputs": [],
   "source": [
    "# Paso 0: Importar diferentes librerias y recursos sobre los que trabajar\n",
    "\n",
    "import pandas as pd\n",
    "import numpy as np\n",
    "import pylab as plt\n",
    "from scipy.stats import norm\n",
    "from scipy.stats import t\n",
    "from scipy.stats import ttest_1samp\n",
    "from scipy.stats import ttest_ind\n",
    "from scipy.stats import ttest_rel\n",
    "from statsmodels.stats import weightstats as w\n",
    "from scipy.stats import shapiro\n",
    "from scipy.stats import sem\n",
    "from scipy.stats import chi2_contingency\n",
    "from scipy.stats.contingency import association\n"
   ]
  },
  {
   "cell_type": "code",
   "execution_count": 2,
   "id": "dd912c83",
   "metadata": {},
   "outputs": [
    {
     "name": "stdout",
     "output_type": "stream",
     "text": [
      " El volumen de la unidad C es Windows\n",
      " El número de serie del volumen es: 788B-24D1\n",
      "\n",
      " Directorio de C:\\Users\\javie\\OneDrive\\Escritorio\\Ironhack\\Final Project\\HR-Leave\\Analysis\n",
      "\n",
      "19/02/2024  15:07    <DIR>          .\n",
      "19/02/2024  14:13    <DIR>          ..\n",
      "19/02/2024  15:06    <DIR>          .ipynb_checkpoints\n",
      "19/02/2024  15:07               589 EDA.ipynb\n",
      "18/02/2024  18:55           332.178 hr_df.csv\n",
      "               2 archivos        332.767 bytes\n",
      "               3 dirs  361.743.343.616 bytes libres\n"
     ]
    }
   ],
   "source": [
    "# Paso 0: Chequear la ubicación para saber si es la folder correcta\n",
    "\n",
    "%ls"
   ]
  },
  {
   "cell_type": "code",
   "execution_count": 3,
   "id": "2a8ad34e",
   "metadata": {},
   "outputs": [],
   "source": [
    "# Paso 0: Eliminar restricciones de display para poder ver todas las columnas\n",
    "\n",
    "pd.options.display.max_columns=None"
   ]
  },
  {
   "cell_type": "code",
   "execution_count": 4,
   "id": "0bb01cef",
   "metadata": {},
   "outputs": [
    {
     "data": {
      "text/html": [
       "<div>\n",
       "<style scoped>\n",
       "    .dataframe tbody tr th:only-of-type {\n",
       "        vertical-align: middle;\n",
       "    }\n",
       "\n",
       "    .dataframe tbody tr th {\n",
       "        vertical-align: top;\n",
       "    }\n",
       "\n",
       "    .dataframe thead th {\n",
       "        text-align: right;\n",
       "    }\n",
       "</style>\n",
       "<table border=\"1\" class=\"dataframe\">\n",
       "  <thead>\n",
       "    <tr style=\"text-align: right;\">\n",
       "      <th></th>\n",
       "      <th>employee_id</th>\n",
       "      <th>attrition</th>\n",
       "      <th>age</th>\n",
       "      <th>age_interval</th>\n",
       "      <th>gender</th>\n",
       "      <th>education</th>\n",
       "      <th>education_cat</th>\n",
       "      <th>education_area</th>\n",
       "      <th>marital_status</th>\n",
       "      <th>department</th>\n",
       "      <th>job_level</th>\n",
       "      <th>job_role</th>\n",
       "      <th>business_travel</th>\n",
       "      <th>business_travel_cat</th>\n",
       "      <th>distance_home</th>\n",
       "      <th>distance_interval</th>\n",
       "      <th>overtime</th>\n",
       "      <th>standard_hours</th>\n",
       "      <th>daily_rate</th>\n",
       "      <th>hourly_rate</th>\n",
       "      <th>monthly_income</th>\n",
       "      <th>monthly_rate</th>\n",
       "      <th>annual_income</th>\n",
       "      <th>companies_worked</th>\n",
       "      <th>salary_hike_per</th>\n",
       "      <th>stock_option</th>\n",
       "      <th>working_years</th>\n",
       "      <th>training_lastyear</th>\n",
       "      <th>years_company</th>\n",
       "      <th>years_curr_role</th>\n",
       "      <th>years_last_promotion</th>\n",
       "      <th>years_curr_manager</th>\n",
       "      <th>environment_satisf</th>\n",
       "      <th>environment_satisf_cat</th>\n",
       "      <th>worklife_balance</th>\n",
       "      <th>worklife_balance_cat</th>\n",
       "      <th>job_involvement</th>\n",
       "      <th>job_involvement_cat</th>\n",
       "      <th>job_satisfaction</th>\n",
       "      <th>job_satisf_cat</th>\n",
       "      <th>performance_rating</th>\n",
       "      <th>performance_rating_cat</th>\n",
       "      <th>relationship_satisf</th>\n",
       "      <th>relationship_satisf_cat</th>\n",
       "    </tr>\n",
       "  </thead>\n",
       "  <tbody>\n",
       "    <tr>\n",
       "      <th>0</th>\n",
       "      <td>RDO0001</td>\n",
       "      <td>Yes</td>\n",
       "      <td>41</td>\n",
       "      <td>40-49</td>\n",
       "      <td>Female</td>\n",
       "      <td>2</td>\n",
       "      <td>College</td>\n",
       "      <td>Life Sciences</td>\n",
       "      <td>Single</td>\n",
       "      <td>Sales</td>\n",
       "      <td>analyst</td>\n",
       "      <td>Sales Executive</td>\n",
       "      <td>2</td>\n",
       "      <td>rarely</td>\n",
       "      <td>1</td>\n",
       "      <td>1-5</td>\n",
       "      <td>Yes</td>\n",
       "      <td>80</td>\n",
       "      <td>1102</td>\n",
       "      <td>94</td>\n",
       "      <td>5993</td>\n",
       "      <td>19479</td>\n",
       "      <td>83902</td>\n",
       "      <td>8</td>\n",
       "      <td>11</td>\n",
       "      <td>0</td>\n",
       "      <td>8</td>\n",
       "      <td>0</td>\n",
       "      <td>6</td>\n",
       "      <td>4</td>\n",
       "      <td>0</td>\n",
       "      <td>5</td>\n",
       "      <td>2</td>\n",
       "      <td>Medium</td>\n",
       "      <td>1</td>\n",
       "      <td>Bad</td>\n",
       "      <td>3</td>\n",
       "      <td>High</td>\n",
       "      <td>4</td>\n",
       "      <td>Very High</td>\n",
       "      <td>3</td>\n",
       "      <td>Excellent</td>\n",
       "      <td>1</td>\n",
       "      <td>Low</td>\n",
       "    </tr>\n",
       "    <tr>\n",
       "      <th>1</th>\n",
       "      <td>RDO0002</td>\n",
       "      <td>No</td>\n",
       "      <td>49</td>\n",
       "      <td>40-49</td>\n",
       "      <td>Male</td>\n",
       "      <td>1</td>\n",
       "      <td>Below College</td>\n",
       "      <td>Life Sciences</td>\n",
       "      <td>Married</td>\n",
       "      <td>Research &amp; Development</td>\n",
       "      <td>analyst</td>\n",
       "      <td>Research Scientist</td>\n",
       "      <td>3</td>\n",
       "      <td>frequently</td>\n",
       "      <td>8</td>\n",
       "      <td>6-10</td>\n",
       "      <td>No</td>\n",
       "      <td>80</td>\n",
       "      <td>279</td>\n",
       "      <td>61</td>\n",
       "      <td>5130</td>\n",
       "      <td>24907</td>\n",
       "      <td>71820</td>\n",
       "      <td>1</td>\n",
       "      <td>23</td>\n",
       "      <td>1</td>\n",
       "      <td>10</td>\n",
       "      <td>3</td>\n",
       "      <td>10</td>\n",
       "      <td>7</td>\n",
       "      <td>1</td>\n",
       "      <td>7</td>\n",
       "      <td>3</td>\n",
       "      <td>High</td>\n",
       "      <td>3</td>\n",
       "      <td>Better</td>\n",
       "      <td>2</td>\n",
       "      <td>Medium</td>\n",
       "      <td>2</td>\n",
       "      <td>Medium</td>\n",
       "      <td>4</td>\n",
       "      <td>Outstanding</td>\n",
       "      <td>4</td>\n",
       "      <td>Very High</td>\n",
       "    </tr>\n",
       "    <tr>\n",
       "      <th>2</th>\n",
       "      <td>RDO0003</td>\n",
       "      <td>Yes</td>\n",
       "      <td>37</td>\n",
       "      <td>30-39</td>\n",
       "      <td>Male</td>\n",
       "      <td>2</td>\n",
       "      <td>College</td>\n",
       "      <td>Other</td>\n",
       "      <td>Single</td>\n",
       "      <td>Research &amp; Development</td>\n",
       "      <td>associate</td>\n",
       "      <td>Laboratory Technician</td>\n",
       "      <td>2</td>\n",
       "      <td>rarely</td>\n",
       "      <td>2</td>\n",
       "      <td>1-5</td>\n",
       "      <td>Yes</td>\n",
       "      <td>80</td>\n",
       "      <td>1373</td>\n",
       "      <td>92</td>\n",
       "      <td>2090</td>\n",
       "      <td>2396</td>\n",
       "      <td>29260</td>\n",
       "      <td>6</td>\n",
       "      <td>15</td>\n",
       "      <td>0</td>\n",
       "      <td>7</td>\n",
       "      <td>3</td>\n",
       "      <td>0</td>\n",
       "      <td>0</td>\n",
       "      <td>0</td>\n",
       "      <td>0</td>\n",
       "      <td>4</td>\n",
       "      <td>Very High</td>\n",
       "      <td>3</td>\n",
       "      <td>Better</td>\n",
       "      <td>2</td>\n",
       "      <td>Medium</td>\n",
       "      <td>3</td>\n",
       "      <td>High</td>\n",
       "      <td>3</td>\n",
       "      <td>Excellent</td>\n",
       "      <td>2</td>\n",
       "      <td>Medium</td>\n",
       "    </tr>\n",
       "    <tr>\n",
       "      <th>3</th>\n",
       "      <td>RDO0004</td>\n",
       "      <td>No</td>\n",
       "      <td>33</td>\n",
       "      <td>30-39</td>\n",
       "      <td>Female</td>\n",
       "      <td>4</td>\n",
       "      <td>Master</td>\n",
       "      <td>Life Sciences</td>\n",
       "      <td>Married</td>\n",
       "      <td>Research &amp; Development</td>\n",
       "      <td>associate</td>\n",
       "      <td>Research Scientist</td>\n",
       "      <td>3</td>\n",
       "      <td>frequently</td>\n",
       "      <td>3</td>\n",
       "      <td>1-5</td>\n",
       "      <td>Yes</td>\n",
       "      <td>80</td>\n",
       "      <td>1392</td>\n",
       "      <td>56</td>\n",
       "      <td>2909</td>\n",
       "      <td>23159</td>\n",
       "      <td>40726</td>\n",
       "      <td>1</td>\n",
       "      <td>11</td>\n",
       "      <td>0</td>\n",
       "      <td>8</td>\n",
       "      <td>3</td>\n",
       "      <td>8</td>\n",
       "      <td>7</td>\n",
       "      <td>3</td>\n",
       "      <td>0</td>\n",
       "      <td>4</td>\n",
       "      <td>Very High</td>\n",
       "      <td>3</td>\n",
       "      <td>Better</td>\n",
       "      <td>3</td>\n",
       "      <td>High</td>\n",
       "      <td>3</td>\n",
       "      <td>High</td>\n",
       "      <td>3</td>\n",
       "      <td>Excellent</td>\n",
       "      <td>3</td>\n",
       "      <td>High</td>\n",
       "    </tr>\n",
       "    <tr>\n",
       "      <th>4</th>\n",
       "      <td>RDO0005</td>\n",
       "      <td>No</td>\n",
       "      <td>27</td>\n",
       "      <td>18-29</td>\n",
       "      <td>Male</td>\n",
       "      <td>1</td>\n",
       "      <td>Below College</td>\n",
       "      <td>Medical</td>\n",
       "      <td>Married</td>\n",
       "      <td>Research &amp; Development</td>\n",
       "      <td>associate</td>\n",
       "      <td>Laboratory Technician</td>\n",
       "      <td>2</td>\n",
       "      <td>rarely</td>\n",
       "      <td>2</td>\n",
       "      <td>1-5</td>\n",
       "      <td>No</td>\n",
       "      <td>80</td>\n",
       "      <td>591</td>\n",
       "      <td>40</td>\n",
       "      <td>3468</td>\n",
       "      <td>16632</td>\n",
       "      <td>48552</td>\n",
       "      <td>9</td>\n",
       "      <td>12</td>\n",
       "      <td>1</td>\n",
       "      <td>6</td>\n",
       "      <td>3</td>\n",
       "      <td>2</td>\n",
       "      <td>2</td>\n",
       "      <td>2</td>\n",
       "      <td>2</td>\n",
       "      <td>1</td>\n",
       "      <td>Low</td>\n",
       "      <td>3</td>\n",
       "      <td>Better</td>\n",
       "      <td>3</td>\n",
       "      <td>High</td>\n",
       "      <td>2</td>\n",
       "      <td>Medium</td>\n",
       "      <td>3</td>\n",
       "      <td>Excellent</td>\n",
       "      <td>4</td>\n",
       "      <td>Very High</td>\n",
       "    </tr>\n",
       "    <tr>\n",
       "      <th>...</th>\n",
       "      <td>...</td>\n",
       "      <td>...</td>\n",
       "      <td>...</td>\n",
       "      <td>...</td>\n",
       "      <td>...</td>\n",
       "      <td>...</td>\n",
       "      <td>...</td>\n",
       "      <td>...</td>\n",
       "      <td>...</td>\n",
       "      <td>...</td>\n",
       "      <td>...</td>\n",
       "      <td>...</td>\n",
       "      <td>...</td>\n",
       "      <td>...</td>\n",
       "      <td>...</td>\n",
       "      <td>...</td>\n",
       "      <td>...</td>\n",
       "      <td>...</td>\n",
       "      <td>...</td>\n",
       "      <td>...</td>\n",
       "      <td>...</td>\n",
       "      <td>...</td>\n",
       "      <td>...</td>\n",
       "      <td>...</td>\n",
       "      <td>...</td>\n",
       "      <td>...</td>\n",
       "      <td>...</td>\n",
       "      <td>...</td>\n",
       "      <td>...</td>\n",
       "      <td>...</td>\n",
       "      <td>...</td>\n",
       "      <td>...</td>\n",
       "      <td>...</td>\n",
       "      <td>...</td>\n",
       "      <td>...</td>\n",
       "      <td>...</td>\n",
       "      <td>...</td>\n",
       "      <td>...</td>\n",
       "      <td>...</td>\n",
       "      <td>...</td>\n",
       "      <td>...</td>\n",
       "      <td>...</td>\n",
       "      <td>...</td>\n",
       "      <td>...</td>\n",
       "    </tr>\n",
       "    <tr>\n",
       "      <th>1465</th>\n",
       "      <td>RDO1466</td>\n",
       "      <td>No</td>\n",
       "      <td>36</td>\n",
       "      <td>30-39</td>\n",
       "      <td>Male</td>\n",
       "      <td>2</td>\n",
       "      <td>College</td>\n",
       "      <td>Medical</td>\n",
       "      <td>Married</td>\n",
       "      <td>Research &amp; Development</td>\n",
       "      <td>analyst</td>\n",
       "      <td>Laboratory Technician</td>\n",
       "      <td>3</td>\n",
       "      <td>frequently</td>\n",
       "      <td>23</td>\n",
       "      <td>20+</td>\n",
       "      <td>No</td>\n",
       "      <td>80</td>\n",
       "      <td>884</td>\n",
       "      <td>41</td>\n",
       "      <td>2571</td>\n",
       "      <td>12290</td>\n",
       "      <td>35994</td>\n",
       "      <td>4</td>\n",
       "      <td>17</td>\n",
       "      <td>1</td>\n",
       "      <td>17</td>\n",
       "      <td>3</td>\n",
       "      <td>5</td>\n",
       "      <td>2</td>\n",
       "      <td>0</td>\n",
       "      <td>3</td>\n",
       "      <td>3</td>\n",
       "      <td>High</td>\n",
       "      <td>3</td>\n",
       "      <td>Better</td>\n",
       "      <td>4</td>\n",
       "      <td>Very High</td>\n",
       "      <td>4</td>\n",
       "      <td>Very High</td>\n",
       "      <td>3</td>\n",
       "      <td>Excellent</td>\n",
       "      <td>3</td>\n",
       "      <td>High</td>\n",
       "    </tr>\n",
       "    <tr>\n",
       "      <th>1466</th>\n",
       "      <td>RDO1467</td>\n",
       "      <td>No</td>\n",
       "      <td>39</td>\n",
       "      <td>30-39</td>\n",
       "      <td>Male</td>\n",
       "      <td>1</td>\n",
       "      <td>Below College</td>\n",
       "      <td>Medical</td>\n",
       "      <td>Married</td>\n",
       "      <td>Research &amp; Development</td>\n",
       "      <td>specialist</td>\n",
       "      <td>Healthcare Representative</td>\n",
       "      <td>2</td>\n",
       "      <td>rarely</td>\n",
       "      <td>6</td>\n",
       "      <td>6-10</td>\n",
       "      <td>No</td>\n",
       "      <td>80</td>\n",
       "      <td>613</td>\n",
       "      <td>42</td>\n",
       "      <td>9991</td>\n",
       "      <td>21457</td>\n",
       "      <td>139874</td>\n",
       "      <td>4</td>\n",
       "      <td>15</td>\n",
       "      <td>1</td>\n",
       "      <td>9</td>\n",
       "      <td>5</td>\n",
       "      <td>7</td>\n",
       "      <td>7</td>\n",
       "      <td>1</td>\n",
       "      <td>7</td>\n",
       "      <td>4</td>\n",
       "      <td>Very High</td>\n",
       "      <td>3</td>\n",
       "      <td>Better</td>\n",
       "      <td>2</td>\n",
       "      <td>Medium</td>\n",
       "      <td>1</td>\n",
       "      <td>Low</td>\n",
       "      <td>3</td>\n",
       "      <td>Excellent</td>\n",
       "      <td>1</td>\n",
       "      <td>Low</td>\n",
       "    </tr>\n",
       "    <tr>\n",
       "      <th>1467</th>\n",
       "      <td>RDO1468</td>\n",
       "      <td>No</td>\n",
       "      <td>27</td>\n",
       "      <td>18-29</td>\n",
       "      <td>Male</td>\n",
       "      <td>3</td>\n",
       "      <td>Bachelor</td>\n",
       "      <td>Life Sciences</td>\n",
       "      <td>Married</td>\n",
       "      <td>Research &amp; Development</td>\n",
       "      <td>analyst</td>\n",
       "      <td>Manufacturing Director</td>\n",
       "      <td>2</td>\n",
       "      <td>rarely</td>\n",
       "      <td>4</td>\n",
       "      <td>1-5</td>\n",
       "      <td>Yes</td>\n",
       "      <td>80</td>\n",
       "      <td>155</td>\n",
       "      <td>87</td>\n",
       "      <td>6142</td>\n",
       "      <td>5174</td>\n",
       "      <td>85988</td>\n",
       "      <td>1</td>\n",
       "      <td>20</td>\n",
       "      <td>1</td>\n",
       "      <td>6</td>\n",
       "      <td>0</td>\n",
       "      <td>6</td>\n",
       "      <td>2</td>\n",
       "      <td>0</td>\n",
       "      <td>3</td>\n",
       "      <td>2</td>\n",
       "      <td>Medium</td>\n",
       "      <td>3</td>\n",
       "      <td>Better</td>\n",
       "      <td>4</td>\n",
       "      <td>Very High</td>\n",
       "      <td>2</td>\n",
       "      <td>Medium</td>\n",
       "      <td>4</td>\n",
       "      <td>Outstanding</td>\n",
       "      <td>2</td>\n",
       "      <td>Medium</td>\n",
       "    </tr>\n",
       "    <tr>\n",
       "      <th>1468</th>\n",
       "      <td>RDO1469</td>\n",
       "      <td>No</td>\n",
       "      <td>49</td>\n",
       "      <td>40-49</td>\n",
       "      <td>Male</td>\n",
       "      <td>3</td>\n",
       "      <td>Bachelor</td>\n",
       "      <td>Medical</td>\n",
       "      <td>Married</td>\n",
       "      <td>Sales</td>\n",
       "      <td>analyst</td>\n",
       "      <td>Sales Executive</td>\n",
       "      <td>3</td>\n",
       "      <td>frequently</td>\n",
       "      <td>2</td>\n",
       "      <td>1-5</td>\n",
       "      <td>No</td>\n",
       "      <td>80</td>\n",
       "      <td>1023</td>\n",
       "      <td>63</td>\n",
       "      <td>5390</td>\n",
       "      <td>13243</td>\n",
       "      <td>75460</td>\n",
       "      <td>2</td>\n",
       "      <td>14</td>\n",
       "      <td>0</td>\n",
       "      <td>17</td>\n",
       "      <td>3</td>\n",
       "      <td>9</td>\n",
       "      <td>6</td>\n",
       "      <td>0</td>\n",
       "      <td>8</td>\n",
       "      <td>4</td>\n",
       "      <td>Very High</td>\n",
       "      <td>2</td>\n",
       "      <td>Good</td>\n",
       "      <td>2</td>\n",
       "      <td>Medium</td>\n",
       "      <td>2</td>\n",
       "      <td>Medium</td>\n",
       "      <td>3</td>\n",
       "      <td>Excellent</td>\n",
       "      <td>4</td>\n",
       "      <td>Very High</td>\n",
       "    </tr>\n",
       "    <tr>\n",
       "      <th>1469</th>\n",
       "      <td>RDO1470</td>\n",
       "      <td>No</td>\n",
       "      <td>34</td>\n",
       "      <td>30-39</td>\n",
       "      <td>Male</td>\n",
       "      <td>3</td>\n",
       "      <td>Bachelor</td>\n",
       "      <td>Medical</td>\n",
       "      <td>Married</td>\n",
       "      <td>Research &amp; Development</td>\n",
       "      <td>analyst</td>\n",
       "      <td>Laboratory Technician</td>\n",
       "      <td>2</td>\n",
       "      <td>rarely</td>\n",
       "      <td>8</td>\n",
       "      <td>6-10</td>\n",
       "      <td>No</td>\n",
       "      <td>80</td>\n",
       "      <td>628</td>\n",
       "      <td>82</td>\n",
       "      <td>4404</td>\n",
       "      <td>10228</td>\n",
       "      <td>61656</td>\n",
       "      <td>2</td>\n",
       "      <td>12</td>\n",
       "      <td>0</td>\n",
       "      <td>6</td>\n",
       "      <td>3</td>\n",
       "      <td>4</td>\n",
       "      <td>3</td>\n",
       "      <td>1</td>\n",
       "      <td>2</td>\n",
       "      <td>2</td>\n",
       "      <td>Medium</td>\n",
       "      <td>4</td>\n",
       "      <td>Best</td>\n",
       "      <td>4</td>\n",
       "      <td>Very High</td>\n",
       "      <td>3</td>\n",
       "      <td>High</td>\n",
       "      <td>3</td>\n",
       "      <td>Excellent</td>\n",
       "      <td>1</td>\n",
       "      <td>Low</td>\n",
       "    </tr>\n",
       "  </tbody>\n",
       "</table>\n",
       "<p>1470 rows × 44 columns</p>\n",
       "</div>"
      ],
      "text/plain": [
       "     employee_id attrition  age age_interval  gender  education  \\\n",
       "0        RDO0001       Yes   41        40-49  Female          2   \n",
       "1        RDO0002        No   49        40-49    Male          1   \n",
       "2        RDO0003       Yes   37        30-39    Male          2   \n",
       "3        RDO0004        No   33        30-39  Female          4   \n",
       "4        RDO0005        No   27        18-29    Male          1   \n",
       "...          ...       ...  ...          ...     ...        ...   \n",
       "1465     RDO1466        No   36        30-39    Male          2   \n",
       "1466     RDO1467        No   39        30-39    Male          1   \n",
       "1467     RDO1468        No   27        18-29    Male          3   \n",
       "1468     RDO1469        No   49        40-49    Male          3   \n",
       "1469     RDO1470        No   34        30-39    Male          3   \n",
       "\n",
       "      education_cat education_area marital_status              department  \\\n",
       "0           College  Life Sciences         Single                   Sales   \n",
       "1     Below College  Life Sciences        Married  Research & Development   \n",
       "2           College          Other         Single  Research & Development   \n",
       "3            Master  Life Sciences        Married  Research & Development   \n",
       "4     Below College        Medical        Married  Research & Development   \n",
       "...             ...            ...            ...                     ...   \n",
       "1465        College        Medical        Married  Research & Development   \n",
       "1466  Below College        Medical        Married  Research & Development   \n",
       "1467       Bachelor  Life Sciences        Married  Research & Development   \n",
       "1468       Bachelor        Medical        Married                   Sales   \n",
       "1469       Bachelor        Medical        Married  Research & Development   \n",
       "\n",
       "       job_level                   job_role  business_travel  \\\n",
       "0        analyst            Sales Executive                2   \n",
       "1        analyst         Research Scientist                3   \n",
       "2      associate      Laboratory Technician                2   \n",
       "3      associate         Research Scientist                3   \n",
       "4      associate      Laboratory Technician                2   \n",
       "...          ...                        ...              ...   \n",
       "1465     analyst      Laboratory Technician                3   \n",
       "1466  specialist  Healthcare Representative                2   \n",
       "1467     analyst     Manufacturing Director                2   \n",
       "1468     analyst            Sales Executive                3   \n",
       "1469     analyst      Laboratory Technician                2   \n",
       "\n",
       "     business_travel_cat  distance_home distance_interval overtime  \\\n",
       "0                 rarely              1               1-5      Yes   \n",
       "1             frequently              8              6-10       No   \n",
       "2                 rarely              2               1-5      Yes   \n",
       "3             frequently              3               1-5      Yes   \n",
       "4                 rarely              2               1-5       No   \n",
       "...                  ...            ...               ...      ...   \n",
       "1465          frequently             23               20+       No   \n",
       "1466              rarely              6              6-10       No   \n",
       "1467              rarely              4               1-5      Yes   \n",
       "1468          frequently              2               1-5       No   \n",
       "1469              rarely              8              6-10       No   \n",
       "\n",
       "      standard_hours  daily_rate  hourly_rate  monthly_income  monthly_rate  \\\n",
       "0                 80        1102           94            5993         19479   \n",
       "1                 80         279           61            5130         24907   \n",
       "2                 80        1373           92            2090          2396   \n",
       "3                 80        1392           56            2909         23159   \n",
       "4                 80         591           40            3468         16632   \n",
       "...              ...         ...          ...             ...           ...   \n",
       "1465              80         884           41            2571         12290   \n",
       "1466              80         613           42            9991         21457   \n",
       "1467              80         155           87            6142          5174   \n",
       "1468              80        1023           63            5390         13243   \n",
       "1469              80         628           82            4404         10228   \n",
       "\n",
       "      annual_income  companies_worked  salary_hike_per  stock_option  \\\n",
       "0             83902                 8               11             0   \n",
       "1             71820                 1               23             1   \n",
       "2             29260                 6               15             0   \n",
       "3             40726                 1               11             0   \n",
       "4             48552                 9               12             1   \n",
       "...             ...               ...              ...           ...   \n",
       "1465          35994                 4               17             1   \n",
       "1466         139874                 4               15             1   \n",
       "1467          85988                 1               20             1   \n",
       "1468          75460                 2               14             0   \n",
       "1469          61656                 2               12             0   \n",
       "\n",
       "      working_years  training_lastyear  years_company  years_curr_role  \\\n",
       "0                 8                  0              6                4   \n",
       "1                10                  3             10                7   \n",
       "2                 7                  3              0                0   \n",
       "3                 8                  3              8                7   \n",
       "4                 6                  3              2                2   \n",
       "...             ...                ...            ...              ...   \n",
       "1465             17                  3              5                2   \n",
       "1466              9                  5              7                7   \n",
       "1467              6                  0              6                2   \n",
       "1468             17                  3              9                6   \n",
       "1469              6                  3              4                3   \n",
       "\n",
       "      years_last_promotion  years_curr_manager  environment_satisf  \\\n",
       "0                        0                   5                   2   \n",
       "1                        1                   7                   3   \n",
       "2                        0                   0                   4   \n",
       "3                        3                   0                   4   \n",
       "4                        2                   2                   1   \n",
       "...                    ...                 ...                 ...   \n",
       "1465                     0                   3                   3   \n",
       "1466                     1                   7                   4   \n",
       "1467                     0                   3                   2   \n",
       "1468                     0                   8                   4   \n",
       "1469                     1                   2                   2   \n",
       "\n",
       "     environment_satisf_cat  worklife_balance worklife_balance_cat  \\\n",
       "0                    Medium                 1                  Bad   \n",
       "1                      High                 3               Better   \n",
       "2                 Very High                 3               Better   \n",
       "3                 Very High                 3               Better   \n",
       "4                       Low                 3               Better   \n",
       "...                     ...               ...                  ...   \n",
       "1465                   High                 3               Better   \n",
       "1466              Very High                 3               Better   \n",
       "1467                 Medium                 3               Better   \n",
       "1468              Very High                 2                 Good   \n",
       "1469                 Medium                 4                 Best   \n",
       "\n",
       "      job_involvement job_involvement_cat  job_satisfaction job_satisf_cat  \\\n",
       "0                   3                High                 4      Very High   \n",
       "1                   2              Medium                 2         Medium   \n",
       "2                   2              Medium                 3           High   \n",
       "3                   3                High                 3           High   \n",
       "4                   3                High                 2         Medium   \n",
       "...               ...                 ...               ...            ...   \n",
       "1465                4           Very High                 4      Very High   \n",
       "1466                2              Medium                 1            Low   \n",
       "1467                4           Very High                 2         Medium   \n",
       "1468                2              Medium                 2         Medium   \n",
       "1469                4           Very High                 3           High   \n",
       "\n",
       "      performance_rating performance_rating_cat  relationship_satisf  \\\n",
       "0                      3              Excellent                    1   \n",
       "1                      4            Outstanding                    4   \n",
       "2                      3              Excellent                    2   \n",
       "3                      3              Excellent                    3   \n",
       "4                      3              Excellent                    4   \n",
       "...                  ...                    ...                  ...   \n",
       "1465                   3              Excellent                    3   \n",
       "1466                   3              Excellent                    1   \n",
       "1467                   4            Outstanding                    2   \n",
       "1468                   3              Excellent                    4   \n",
       "1469                   3              Excellent                    1   \n",
       "\n",
       "     relationship_satisf_cat  \n",
       "0                        Low  \n",
       "1                  Very High  \n",
       "2                     Medium  \n",
       "3                       High  \n",
       "4                  Very High  \n",
       "...                      ...  \n",
       "1465                    High  \n",
       "1466                     Low  \n",
       "1467                  Medium  \n",
       "1468               Very High  \n",
       "1469                     Low  \n",
       "\n",
       "[1470 rows x 44 columns]"
      ]
     },
     "execution_count": 4,
     "metadata": {},
     "output_type": "execute_result"
    }
   ],
   "source": [
    "# Paso 1: Cargar DF limpio sobre el que trabajar\n",
    "\n",
    "df = pd.read_csv('hr_df.csv')\n",
    "\n",
    "df"
   ]
  },
  {
   "cell_type": "code",
   "execution_count": 12,
   "id": "d478c329",
   "metadata": {},
   "outputs": [
    {
     "data": {
      "text/plain": [
       "(3.0739613982367193, 0.5455253376565949)"
      ]
     },
     "execution_count": 12,
     "metadata": {},
     "output_type": "execute_result"
    }
   ],
   "source": [
    "# No tiene correlación\n",
    "\n",
    "cross = pd.crosstab(df['attrition'], df['education_cat'])\n",
    "\n",
    "estadistico, p_valor, ex, ddof = chi2_contingency(cross)\n",
    "\n",
    "estadistico, p_valor"
   ]
  },
  {
   "cell_type": "code",
   "execution_count": 13,
   "id": "73195c96",
   "metadata": {},
   "outputs": [
    {
     "data": {
      "text/plain": [
       "(1.1169671241970975, 0.29057244902890855)"
      ]
     },
     "execution_count": 13,
     "metadata": {},
     "output_type": "execute_result"
    }
   ],
   "source": [
    "# No tiene correlación\n",
    "\n",
    "cross_1 = pd.crosstab(df['attrition'], df['gender'])\n",
    "\n",
    "estadistico, p_valor, ex, ddof = chi2_contingency(cross_1)\n",
    "\n",
    "estadistico, p_valor"
   ]
  },
  {
   "cell_type": "code",
   "execution_count": 15,
   "id": "1606aa6b",
   "metadata": {},
   "outputs": [
    {
     "data": {
      "text/plain": [
       "(16.024674119585423, 0.006773980139025222)"
      ]
     },
     "execution_count": 15,
     "metadata": {},
     "output_type": "execute_result"
    }
   ],
   "source": [
    "# Relación entre attrition y education area\n",
    "\n",
    "cross_2 = pd.crosstab(df['attrition'], df['education_area'])\n",
    "\n",
    "estadistico, p_valor, ex, ddof = chi2_contingency(cross_2)\n",
    "\n",
    "estadistico, p_valor"
   ]
  },
  {
   "cell_type": "code",
   "execution_count": 22,
   "id": "57ca9fe0",
   "metadata": {},
   "outputs": [
    {
     "data": {
      "text/plain": [
       "0.10440851908182987"
      ]
     },
     "execution_count": 22,
     "metadata": {},
     "output_type": "execute_result"
    }
   ],
   "source": [
    "# Fuerza de la relación attrition y education area\n",
    "\n",
    "association(cross_2, method='cramer')"
   ]
  },
  {
   "cell_type": "code",
   "execution_count": 16,
   "id": "28092575",
   "metadata": {},
   "outputs": [
    {
     "data": {
      "text/plain": [
       "(46.163676540848705, 9.45551106034083e-11)"
      ]
     },
     "execution_count": 16,
     "metadata": {},
     "output_type": "execute_result"
    }
   ],
   "source": [
    "# Relación entre attrition y marital status\n",
    "\n",
    "cross_3 = pd.crosstab(df['attrition'], df['marital_status'])\n",
    "\n",
    "estadistico, p_valor, ex, ddof = chi2_contingency(cross_3)\n",
    "\n",
    "estadistico, p_valor"
   ]
  },
  {
   "cell_type": "code",
   "execution_count": 23,
   "id": "0276cecd",
   "metadata": {},
   "outputs": [
    {
     "data": {
      "text/plain": [
       "0.10538267516821954"
      ]
     },
     "execution_count": 23,
     "metadata": {},
     "output_type": "execute_result"
    }
   ],
   "source": [
    "# Fuerza de la relación attrition y marital status\n",
    "\n",
    "association(cross_3, method='cramer')"
   ]
  },
  {
   "cell_type": "code",
   "execution_count": 24,
   "id": "2ff1a4c0",
   "metadata": {},
   "outputs": [
    {
     "data": {
      "text/plain": [
       "(10.79600732241067, 0.004525606574479633)"
      ]
     },
     "execution_count": 24,
     "metadata": {},
     "output_type": "execute_result"
    }
   ],
   "source": [
    "# Relación entre attrition y department\n",
    "\n",
    "cross_4 = pd.crosstab(df['attrition'], df['department'])\n",
    "\n",
    "estadistico, p_valor, ex, ddof = chi2_contingency(cross_4)\n",
    "\n",
    "estadistico, p_valor"
   ]
  },
  {
   "cell_type": "code",
   "execution_count": 25,
   "id": "ffe3c7ba",
   "metadata": {},
   "outputs": [
    {
     "data": {
      "text/plain": [
       "0.0856984402909795"
      ]
     },
     "execution_count": 25,
     "metadata": {},
     "output_type": "execute_result"
    }
   ],
   "source": [
    "# Fuerza de la relación attrition y marital status\n",
    "\n",
    "association(cross_4, method='cramer')"
   ]
  },
  {
   "cell_type": "code",
   "execution_count": 26,
   "id": "b35ecaaa",
   "metadata": {},
   "outputs": [
    {
     "data": {
      "text/plain": [
       "(72.52901310667391, 6.634684715458909e-15)"
      ]
     },
     "execution_count": 26,
     "metadata": {},
     "output_type": "execute_result"
    }
   ],
   "source": [
    "# Relación entre attrition y job_level\n",
    "\n",
    "cross_5 = pd.crosstab(df['attrition'], df['job_level'])\n",
    "\n",
    "estadistico, p_valor, ex, ddof = chi2_contingency(cross_5)\n",
    "\n",
    "estadistico, p_valor"
   ]
  },
  {
   "cell_type": "code",
   "execution_count": 27,
   "id": "ff5823a1",
   "metadata": {},
   "outputs": [
    {
     "data": {
      "text/plain": [
       "0.2221248853650073"
      ]
     },
     "execution_count": 27,
     "metadata": {},
     "output_type": "execute_result"
    }
   ],
   "source": [
    "# Fuerza de la relación attrition y job level\n",
    "\n",
    "association(cross_5, method='cramer')"
   ]
  },
  {
   "cell_type": "code",
   "execution_count": 29,
   "id": "ba287a5f",
   "metadata": {
    "scrolled": true
   },
   "outputs": [
    {
     "data": {
      "text/plain": [
       "(24.18241368565517, 5.608614476449942e-06)"
      ]
     },
     "execution_count": 29,
     "metadata": {},
     "output_type": "execute_result"
    }
   ],
   "source": [
    "# Relación entre attrition y business travel\n",
    "\n",
    "cross_6 = pd.crosstab(df['attrition'], df['business_travel_cat'])\n",
    "\n",
    "estadistico, p_valor, ex, ddof = chi2_contingency(cross_6)\n",
    "\n",
    "estadistico, p_valor"
   ]
  },
  {
   "cell_type": "code",
   "execution_count": 30,
   "id": "3ee31236",
   "metadata": {},
   "outputs": [
    {
     "data": {
      "text/plain": [
       "0.12825997643406717"
      ]
     },
     "execution_count": 30,
     "metadata": {},
     "output_type": "execute_result"
    }
   ],
   "source": [
    "# Fuerza de la relación attrition y business travel\n",
    "\n",
    "association(cross_6, method='cramer')"
   ]
  },
  {
   "cell_type": "code",
   "execution_count": 32,
   "id": "053e6109",
   "metadata": {},
   "outputs": [
    {
     "data": {
      "text/plain": [
       "(22.503881435842295, 5.1234689062894205e-05)"
      ]
     },
     "execution_count": 32,
     "metadata": {},
     "output_type": "execute_result"
    }
   ],
   "source": [
    "# Relación entre attrition y environment satisfaction\n",
    "\n",
    "cross_7 = pd.crosstab(df['attrition'], df['environment_satisf_cat'])\n",
    "\n",
    "estadistico, p_valor, ex, ddof = chi2_contingency(cross_7)\n",
    "\n",
    "estadistico, p_valor"
   ]
  },
  {
   "cell_type": "code",
   "execution_count": 33,
   "id": "eb8626e9",
   "metadata": {},
   "outputs": [
    {
     "data": {
      "text/plain": [
       "0.12372858554725893"
      ]
     },
     "execution_count": 33,
     "metadata": {},
     "output_type": "execute_result"
    }
   ],
   "source": [
    "# Fuerza de la relación attrition y environment satisfaction\n",
    "\n",
    "association(cross_7, method='cramer')"
   ]
  },
  {
   "cell_type": "code",
   "execution_count": 34,
   "id": "874e6707",
   "metadata": {},
   "outputs": [
    {
     "data": {
      "text/plain": [
       "(16.3250970916474, 0.0009725698845348824)"
      ]
     },
     "execution_count": 34,
     "metadata": {},
     "output_type": "execute_result"
    }
   ],
   "source": [
    "# Relación entre attrition y worklife_balance\n",
    "\n",
    "cross_8 = pd.crosstab(df['attrition'], df['worklife_balance_cat'])\n",
    "\n",
    "estadistico, p_valor, ex, ddof = chi2_contingency(cross_8)\n",
    "\n",
    "estadistico, p_valor"
   ]
  },
  {
   "cell_type": "code",
   "execution_count": 35,
   "id": "0807c77c",
   "metadata": {},
   "outputs": [
    {
     "data": {
      "text/plain": [
       "0.10538267516821954"
      ]
     },
     "execution_count": 35,
     "metadata": {},
     "output_type": "execute_result"
    }
   ],
   "source": [
    "# Fuerza de la relación attrition y worklife balance\n",
    "\n",
    "association(cross_8, method='cramer')"
   ]
  },
  {
   "cell_type": "code",
   "execution_count": 36,
   "id": "ee4c4a30",
   "metadata": {},
   "outputs": [
    {
     "data": {
      "text/plain": [
       "(28.492021234659283, 2.8631806367134195e-06)"
      ]
     },
     "execution_count": 36,
     "metadata": {},
     "output_type": "execute_result"
    }
   ],
   "source": [
    "# Relación entre attrition y job involvement\n",
    "\n",
    "cross_9 = pd.crosstab(df['attrition'], df['job_involvement_cat'])\n",
    "\n",
    "estadistico, p_valor, ex, ddof = chi2_contingency(cross_9)\n",
    "\n",
    "estadistico, p_valor"
   ]
  },
  {
   "cell_type": "code",
   "execution_count": 40,
   "id": "bef71231",
   "metadata": {},
   "outputs": [
    {
     "data": {
      "text/plain": [
       "0.13922042727457964"
      ]
     },
     "execution_count": 40,
     "metadata": {},
     "output_type": "execute_result"
    }
   ],
   "source": [
    "# Fuerza de la relación attrition y job involvement\n",
    "\n",
    "association(cross_9, method='cramer')"
   ]
  },
  {
   "cell_type": "code",
   "execution_count": 39,
   "id": "e9b647c4",
   "metadata": {},
   "outputs": [
    {
     "data": {
      "text/plain": [
       "(17.505077010348, 0.0005563004510387556)"
      ]
     },
     "execution_count": 39,
     "metadata": {},
     "output_type": "execute_result"
    }
   ],
   "source": [
    "# Relación entre attrition y job satisfaction\n",
    "\n",
    "cross_10 = pd.crosstab(df['attrition'], df['job_satisf_cat'])\n",
    "\n",
    "estadistico, p_valor, ex, ddof = chi2_contingency(cross_10)\n",
    "\n",
    "estadistico, p_valor"
   ]
  },
  {
   "cell_type": "code",
   "execution_count": 41,
   "id": "0437de1d",
   "metadata": {},
   "outputs": [
    {
     "data": {
      "text/plain": [
       "0.1091247710343438"
      ]
     },
     "execution_count": 41,
     "metadata": {},
     "output_type": "execute_result"
    }
   ],
   "source": [
    "# Fuerza de la relación attrition y job satisfaction\n",
    "\n",
    "association(cross_10, method='cramer')"
   ]
  },
  {
   "cell_type": "code",
   "execution_count": 42,
   "id": "f920560c",
   "metadata": {},
   "outputs": [
    {
     "data": {
      "text/plain": [
       "(0.00015475439428271534, 0.9900745465934576)"
      ]
     },
     "execution_count": 42,
     "metadata": {},
     "output_type": "execute_result"
    }
   ],
   "source": [
    "# Relación entre attrition y performance rating\n",
    "\n",
    "cross_11 = pd.crosstab(df['attrition'], df['performance_rating_cat'])\n",
    "\n",
    "estadistico, p_valor, ex, ddof = chi2_contingency(cross_11)\n",
    "\n",
    "estadistico, p_valor"
   ]
  },
  {
   "cell_type": "code",
   "execution_count": 43,
   "id": "54c2200d",
   "metadata": {},
   "outputs": [
    {
     "data": {
      "text/plain": [
       "(5.241067859713708, 0.1549724437105263)"
      ]
     },
     "execution_count": 43,
     "metadata": {},
     "output_type": "execute_result"
    }
   ],
   "source": [
    "# Relación entre attrition y relationship satisfaction\n",
    "\n",
    "cross_11 = pd.crosstab(df['attrition'], df['relationship_satisf_cat'])\n",
    "\n",
    "estadistico, p_valor, ex, ddof = chi2_contingency(cross_11)\n",
    "\n",
    "estadistico, p_valor"
   ]
  },
  {
   "cell_type": "code",
   "execution_count": null,
   "id": "7897e5a8",
   "metadata": {},
   "outputs": [],
   "source": []
  }
 ],
 "metadata": {
  "kernelspec": {
   "display_name": "Python 3 (ipykernel)",
   "language": "python",
   "name": "python3"
  },
  "language_info": {
   "codemirror_mode": {
    "name": "ipython",
    "version": 3
   },
   "file_extension": ".py",
   "mimetype": "text/x-python",
   "name": "python",
   "nbconvert_exporter": "python",
   "pygments_lexer": "ipython3",
   "version": "3.11.5"
  }
 },
 "nbformat": 4,
 "nbformat_minor": 5
}
