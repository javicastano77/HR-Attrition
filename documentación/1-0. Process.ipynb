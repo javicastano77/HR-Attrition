{
 "cells": [
  {
   "cell_type": "markdown",
   "id": "452f3349",
   "metadata": {},
   "source": [
    "# 1.0 - Problem statement\n",
    "\n",
    "As company, we want to analyze which are the reasons that affect significantly to employees' decission of leaving their companies due to high levels of attrition.\n",
    "\n",
    "Apart from this previous understanding, we want to know how to predict this scenario in order to retain the people value.\n",
    "\n",
    "\n",
    "## Main Objetives:\n",
    "\n",
    "#### Exploratory Descriptive Analysis: \n",
    "\n",
    "Analyze the variables that classify our company employees.\n",
    "\n",
    "Establish possible relations between variables in order to explain attrition classification. \n",
    "\n",
    "\n",
    "### Guideline: \n",
    "\n",
    "- i. Data cleaning (duplicates values, null values and dtypes)\n",
    "- ii. Data transformation (normalize, consistency, categorical variables) \n",
    "- iii. Exploratory analysis: deep analysis of correlations between variables\n",
    "- iv. First conclusion: establish significant variables to test the model\n",
    "- v. Implement a model: first test with the model"
   ]
  },
  {
   "cell_type": "code",
   "execution_count": null,
   "id": "6bb54118",
   "metadata": {},
   "outputs": [],
   "source": []
  }
 ],
 "metadata": {
  "kernelspec": {
   "display_name": "Python 3 (ipykernel)",
   "language": "python",
   "name": "python3"
  },
  "language_info": {
   "codemirror_mode": {
    "name": "ipython",
    "version": 3
   },
   "file_extension": ".py",
   "mimetype": "text/x-python",
   "name": "python",
   "nbconvert_exporter": "python",
   "pygments_lexer": "ipython3",
   "version": "3.11.5"
  }
 },
 "nbformat": 4,
 "nbformat_minor": 5
}
